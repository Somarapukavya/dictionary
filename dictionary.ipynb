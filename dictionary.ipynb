{
 "cells": [
  {
   "cell_type": "code",
   "execution_count": null,
   "id": "806fd747-4f9d-49c8-ba67-d6a281a74d6e",
   "metadata": {},
   "outputs": [],
   "source": [
    "DICTIONARY \n",
    "Dictionary is an unordered collection of key-value pairs.\n",
    "Key are unique and hashable. \n",
    "It is defined with {key:value}.\n",
    "Dictionary values are accessed by using keys.\n",
    "Dictionary are mutable.\n",
    "An empty dictionary is a dictionary that contains no key-value pairs."
   ]
  },
  {
   "cell_type": "code",
   "execution_count": 1,
   "id": "08b797fb-fa97-4568-adac-f34f632ae333",
   "metadata": {},
   "outputs": [
    {
     "data": {
      "text/plain": [
       "dict_values([1, 2, [1, 2], 6.5, 'codegnan', 2])"
      ]
     },
     "execution_count": 1,
     "metadata": {},
     "output_type": "execute_result"
    }
   ],
   "source": [
    "#example\n",
    "d = {'a':1,'b':2,(1,2):[1,2],5.5:6.5,3:'codegnan',\"num\":2}\n",
    "d.values()"
   ]
  },
  {
   "cell_type": "code",
   "execution_count": 3,
   "id": "ea13f388-e7c8-4519-9543-1c0e78689455",
   "metadata": {},
   "outputs": [
    {
     "name": "stdout",
     "output_type": "stream",
     "text": [
      "<class 'dict'> <class 'dict'> <class 'dict'>\n"
     ]
    }
   ],
   "source": [
    "#empty dictionary\n",
    "d1 = {}\n",
    "d2 = dict ()\n",
    "#single item dictionary\n",
    "d3 = {\"language\":\"python\"}\n",
    "print(type(d1),type(d2),type(d3))"
   ]
  },
  {
   "cell_type": "code",
   "execution_count": 4,
   "id": "5a7df121-ef92-4a5b-9f56-d3efc460bbfb",
   "metadata": {},
   "outputs": [
    {
     "name": "stdout",
     "output_type": "stream",
     "text": [
      "['a']\n"
     ]
    },
    {
     "ename": "KeyError",
     "evalue": "'codegnan'",
     "output_type": "error",
     "traceback": [
      "\u001b[31m---------------------------------------------------------------------------\u001b[39m",
      "\u001b[31mKeyError\u001b[39m                                  Traceback (most recent call last)",
      "\u001b[36mCell\u001b[39m\u001b[36m \u001b[39m\u001b[32mIn[4]\u001b[39m\u001b[32m, line 4\u001b[39m\n\u001b[32m      2\u001b[39m d = {\u001b[33m'\u001b[39m\u001b[33ma\u001b[39m\u001b[33m'\u001b[39m:\u001b[32m1\u001b[39m,\u001b[33m'\u001b[39m\u001b[33mb\u001b[39m\u001b[33m'\u001b[39m:\u001b[32m2\u001b[39m,(\u001b[32m1\u001b[39m,\u001b[32m2\u001b[39m):[\u001b[32m1\u001b[39m,\u001b[32m2\u001b[39m],\u001b[32m5.5\u001b[39m:\u001b[32m6.5\u001b[39m,\u001b[32m3\u001b[39m:\u001b[33m'\u001b[39m\u001b[33mcodegnan\u001b[39m\u001b[33m'\u001b[39m,\u001b[33m\"\u001b[39m\u001b[33mnum\u001b[39m\u001b[33m\"\u001b[39m:\u001b[32m2\u001b[39m,\u001b[33m'\u001b[39m\u001b[33mb\u001b[39m\u001b[33m'\u001b[39m:\u001b[33m'\u001b[39m\u001b[33mz\u001b[39m\u001b[33m'\u001b[39m}\n\u001b[32m      3\u001b[39m \u001b[38;5;28mprint\u001b[39m([\u001b[33m'\u001b[39m\u001b[33ma\u001b[39m\u001b[33m'\u001b[39m])\n\u001b[32m----> \u001b[39m\u001b[32m4\u001b[39m \u001b[38;5;28mprint\u001b[39m(\u001b[43md\u001b[49m\u001b[43m[\u001b[49m\u001b[33;43m'\u001b[39;49m\u001b[33;43mcodegnan\u001b[39;49m\u001b[33;43m'\u001b[39;49m\u001b[43m]\u001b[49m)\n\u001b[32m      5\u001b[39m \u001b[38;5;28mprint\u001b[39m([(\u001b[32m1\u001b[39m,\u001b[32m2\u001b[39m)])\n\u001b[32m      6\u001b[39m \u001b[38;5;28mprint\u001b[39m(d[\u001b[33m'\u001b[39m\u001b[33mnum\u001b[39m\u001b[33m'\u001b[39m])\n",
      "\u001b[31mKeyError\u001b[39m: 'codegnan'"
     ]
    }
   ],
   "source": [
    "#accessing values using keys\n",
    "d = {'a':1,'b':2,(1,2):[1,2],5.5:6.5,3:'codegnan',\"num\":2,'b':'z'}\n",
    "print(['a'])\n",
    "print(d['codegnan'])\n",
    "print([(1,2)])\n",
    "print(d['num'])\n",
    "print(d['b'])"
   ]
  },
  {
   "cell_type": "code",
   "execution_count": 5,
   "id": "f5aacc2c-ad10-4868-9cec-9e900f6e68e2",
   "metadata": {},
   "outputs": [
    {
     "name": "stdout",
     "output_type": "stream",
     "text": [
      "1\n",
      "codegnan\n",
      "[1, 2]\n",
      "2\n",
      "z\n"
     ]
    }
   ],
   "source": [
    "# Accessing values using keys\n",
    "d = {\n",
    "    'a': 1,\n",
    "    'b': 2,\n",
    "    (1, 2): [1, 2],\n",
    "    5.5: 6.5,\n",
    "    3: 'codegnan',\n",
    "    'num': 2,\n",
    "    'b ': 'z'\n",
    "}\n",
    "\n",
    "print(d['a'])          # Valid key: string 'a'\n",
    "print(d[3])            # Valid key: integer 3\n",
    "print(d[(1, 2)])       # Valid key: tuple (1, 2)\n",
    "print(d['num'])        # Valid key: string 'num'\n",
    "print(d['b '])         # Valid key: string 'b ' (with space)\n"
   ]
  },
  {
   "cell_type": "code",
   "execution_count": 6,
   "id": "f94cee14-3a25-4b82-862e-d7af67f274b5",
   "metadata": {},
   "outputs": [
    {
     "name": "stdout",
     "output_type": "stream",
     "text": [
      "{'language': 'java', 'version': '3.13.5', 'level': 'high level'}\n"
     ]
    }
   ],
   "source": [
    "#adding or updating the items\n",
    "d = {'language':'python','version':'3.13.5'}\n",
    "d['language']='java'\n",
    "d['level']='high level'\n",
    "print(d)"
   ]
  },
  {
   "cell_type": "code",
   "execution_count": null,
   "id": "20b090a1-14a6-4804-9792-2de4587247d9",
   "metadata": {},
   "outputs": [],
   "source": [
    "###Dictionary methods\n",
    "keys()-returns the keys from function\n",
    "Values()- return values of dictionary.\n",
    "items()-return a list of tuple of key value pairs\n",
    "pop (key)-return and remove the value of key.\n",
    "pop item()-return name removes the last updated item. \n",
    "Update()-update the found current dictionary item with new_dictionary items.\n",
    "Remove()-removes the all items from dictionary.\n",
    "Clear()-removes the all items from dictionary."
   ]
  },
  {
   "cell_type": "code",
   "execution_count": 8,
   "id": "45d65b90-b998-4639-9796-1e81e973be3b",
   "metadata": {},
   "outputs": [
    {
     "name": "stdout",
     "output_type": "stream",
     "text": [
      "<class 'dict_keys'> <class 'dict_values'> <class 'dict_items'>\n",
      "dict_keys(['language', 'version', 'level'])\n",
      "dict_values(['python', '3.13.5', 'high level'])\n",
      "dict_items([('language', 'python'), ('version', '3.13.5'), ('level', 'high level')])\n",
      "['language', 'version', 'level']\n"
     ]
    }
   ],
   "source": [
    "#keys(),values(),items()\n",
    "d = {'language':'python','version':'3.13.5','level':'high level'}\n",
    "keys = d.keys()\n",
    "values = d.values()\n",
    "items = d.items()\n",
    "print(type(keys),type(values),type(items))\n",
    "print(keys)\n",
    "print(values)\n",
    "print(items)\n",
    "print(list(keys))         "
   ]
  },
  {
   "cell_type": "code",
   "execution_count": 17,
   "id": "89ae80b5-c2a9-4b6f-970c-162f643ffba9",
   "metadata": {},
   "outputs": [
    {
     "name": "stdout",
     "output_type": "stream",
     "text": [
      "{'language': 'java', 'version': '3.13.5'}\n"
     ]
    }
   ],
   "source": [
    "#pop(key),pop item()\n",
    "d = {'language':'java','version':'3.13.5','level':'high level'}\n",
    "item = d.popitem()\n",
    "print(d)"
   ]
  },
  {
   "cell_type": "code",
   "execution_count": 15,
   "id": "b4133e16-eee1-43d3-8df7-960f86898589",
   "metadata": {},
   "outputs": [
    {
     "name": "stdout",
     "output_type": "stream",
     "text": [
      "dict_items([('language', 'python'), ('version', '3.13.5'), ('level', 'high level')])\n",
      "{'language': 'java', 'version': '3.13.5'}\n"
     ]
    }
   ],
   "source": [
    "#pop(key) pop item()\n",
    "d = {'language':'java','version':'3.13.5','level':'high level'}\n",
    "item = d.popitem()\n",
    "print(items)\n",
    "print(d)"
   ]
  },
  {
   "cell_type": "code",
   "execution_count": 19,
   "id": "b2ba2948-4856-497e-9532-d06ac4ccbc2a",
   "metadata": {},
   "outputs": [
    {
     "name": "stdout",
     "output_type": "stream",
     "text": [
      "{'language': 'python', 'version': '3.13.5', 'level': 'high level'}\n",
      "{'language': 'python', 'level': 'high level'}\n"
     ]
    }
   ],
   "source": [
    "#update(),clear()\n",
    "d1 = {'language':'java','version':'3.13.5'}\n",
    "d2 = {'language':'python','level':'high level'}\n",
    "d1.update(d2)\n",
    "print(d1)\n",
    "print(d2)"
   ]
  },
  {
   "cell_type": "code",
   "execution_count": 20,
   "id": "cdebdcd2-aa80-467a-aa60-6048cd0d6236",
   "metadata": {},
   "outputs": [
    {
     "name": "stdout",
     "output_type": "stream",
     "text": [
      "{'language': 'java', 'version': '3.13.5'}\n",
      "{'language': 'java', 'level': 'high level', 'version': '3.13.5'}\n"
     ]
    }
   ],
   "source": [
    "d1 = {'language':'java','version':'3.13.5'}\n",
    "d2 = {'language':'python','level':'high level'}\n",
    "d2.update(d1)\n",
    "print(d1)\n",
    "print(d2)"
   ]
  },
  {
   "cell_type": "code",
   "execution_count": 23,
   "id": "b21bab5c-f872-432f-a887-25740d5a0eaa",
   "metadata": {},
   "outputs": [
    {
     "name": "stdout",
     "output_type": "stream",
     "text": [
      "{}\n"
     ]
    }
   ],
   "source": [
    "#clear()\n",
    "d1 ={'language':'java','version':'3.13.5'}\n",
    "d1.clear()\n",
    "print(d1)"
   ]
  },
  {
   "cell_type": "code",
   "execution_count": null,
   "id": "3391909c-7884-406d-a94f-97806e0f0e0f",
   "metadata": {},
   "outputs": [],
   "source": []
  }
 ],
 "metadata": {
  "kernelspec": {
   "display_name": "Python 3 (ipykernel)",
   "language": "python",
   "name": "python3"
  },
  "language_info": {
   "codemirror_mode": {
    "name": "ipython",
    "version": 3
   },
   "file_extension": ".py",
   "mimetype": "text/x-python",
   "name": "python",
   "nbconvert_exporter": "python",
   "pygments_lexer": "ipython3",
   "version": "3.13.5"
  }
 },
 "nbformat": 4,
 "nbformat_minor": 5
}
